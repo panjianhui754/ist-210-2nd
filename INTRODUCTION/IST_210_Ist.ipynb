{
  "nbformat": 4,
  "nbformat_minor": 0,
  "metadata": {
    "colab": {
      "name": "IST 210 Ist",
      "provenance": [],
      "toc_visible": true,
      "authorship_tag": "ABX9TyMYTO7mcU3z5+B2Ky0PlyUM",
      "include_colab_link": true
    },
    "kernelspec": {
      "name": "python3",
      "display_name": "Python 3"
    }
  },
  "cells": [
    {
      "cell_type": "markdown",
      "metadata": {
        "id": "view-in-github",
        "colab_type": "text"
      },
      "source": [
        "<a href=\"https://colab.research.google.com/github/panjianhui754/ist-210-2nd/blob/master/INTRODUCTION/IST_210_Ist.ipynb\" target=\"_parent\"><img src=\"https://colab.research.google.com/assets/colab-badge.svg\" alt=\"Open In Colab\"/></a>"
      ]
    },
    {
      "cell_type": "code",
      "metadata": {
        "id": "tsKNBz_IzZPh",
        "colab_type": "code",
        "outputId": "ddb1c4e2-850c-494c-9ecb-f302e017f472",
        "colab": {
          "base_uri": "https://localhost:8080/",
          "height": 34
        }
      },
      "source": [
        "2+2"
      ],
      "execution_count": 0,
      "outputs": [
        {
          "output_type": "execute_result",
          "data": {
            "text/plain": [
              "4"
            ]
          },
          "metadata": {
            "tags": []
          },
          "execution_count": 2
        }
      ]
    },
    {
      "cell_type": "markdown",
      "metadata": {
        "id": "RsFob9HGz90d",
        "colab_type": "text"
      },
      "source": [
        "This is my first notebook"
      ]
    },
    {
      "cell_type": "code",
      "metadata": {
        "id": "oenOCUjdzz8v",
        "colab_type": "code",
        "outputId": "5ba6a233-4cdb-4d24-f5f6-886b0e38b11f",
        "colab": {
          "base_uri": "https://localhost:8080/",
          "height": 34
        }
      },
      "source": [
        "2+3"
      ],
      "execution_count": 0,
      "outputs": [
        {
          "output_type": "execute_result",
          "data": {
            "text/plain": [
              "5"
            ]
          },
          "metadata": {
            "tags": []
          },
          "execution_count": 3
        }
      ]
    },
    {
      "cell_type": "code",
      "metadata": {
        "id": "fhbQi8x5zxOD",
        "colab_type": "code",
        "colab": {}
      },
      "source": [
        ""
      ],
      "execution_count": 0,
      "outputs": []
    },
    {
      "cell_type": "markdown",
      "metadata": {
        "id": "DofXkcTNzxWx",
        "colab_type": "text"
      },
      "source": [
        "this is **bold**"
      ]
    },
    {
      "cell_type": "markdown",
      "metadata": {
        "id": "2hiU2SJr0oAX",
        "colab_type": "text"
      },
      "source": [
        "## this is a header"
      ]
    },
    {
      "cell_type": "code",
      "metadata": {
        "id": "4FQu5Vof4tdr",
        "colab_type": "code",
        "colab": {}
      },
      "source": [
        ""
      ],
      "execution_count": 0,
      "outputs": []
    },
    {
      "cell_type": "markdown",
      "metadata": {
        "id": "QKFcrkPG7LQb",
        "colab_type": "text"
      },
      "source": [
        "![alt text](https://raw.githubusercontent.com/panjianhui754/ist-210-2nd/master/introduction/59908339.png)"
      ]
    }
  ]
}